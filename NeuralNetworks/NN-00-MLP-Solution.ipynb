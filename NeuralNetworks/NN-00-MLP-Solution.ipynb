{
 "cells": [
  {
   "cell_type": "markdown",
   "metadata": {},
   "source": [
    "# MNIST + MLP\n",
    "\n",
    "You can open this notebook either within a supported container or Google colaboratory [here](https://colab.research.google.com/github/drinkingkazu/TRISEP2022ML/blob/master/NeuralNetworks/NN-00-MLP-Solution.ipynb).\n",
    "\n",
    "In this notebook, we design and train a Multi-Layer Perceptrons (MLP) for hand-written digit classification task. We use MNIST dataset that contains 28x28 pixel images of a hand-written digit (0 to 9, so 10 classification targets). \n",
    "\n",
    "## Goals\n",
    "1. Get familiar with MNIST dataset\n",
    "2. Build a pipeline to stream data for SGD\n",
    "3. Design MLP and train on MNIST\n",
    "\n",
    "Let's start with usual import!"
   ]
  },
  {
   "cell_type": "code",
   "execution_count": 1,
   "metadata": {},
   "outputs": [],
   "source": [
    "import matplotlib.pyplot as plt\n",
    "import matplotlib as mpl\n",
    "%matplotlib inline\n",
    "mpl.rcParams['figure.figsize'] = [8, 6]\n",
    "mpl.rcParams['font.size'] = 16\n",
    "mpl.rcParams['axes.grid'] = True\n",
    "\n",
    "import torch\n",
    "device = torch.device('cuda' if torch.cuda.is_available() else 'cpu')\n",
    "torch.device(device)\n",
    "import numpy as np\n",
    "SEED=12345\n",
    "_=np.random.seed(SEED)\n",
    "_=torch.manual_seed(SEED)"
   ]
  },
  {
   "cell_type": "markdown",
   "metadata": {},
   "source": [
    "## 1. MNIST Dataset\n",
    "MNIST is widely used for an introductory machine learning (ML) courses/lectures. Most, if not all, ML libraries provide an easy way (API) to access MNIST and many publicly available dataset. This is true in `pytorch` as well. MNIST dataset in `Dataset` instance is available from `torchvision`. \n",
    "\n",
    "A `torchvision` is a supporting module that has many image-related APIs including an interface (and management) of MNIST dataset. Let's see how we can construct:"
   ]
  },
  {
   "cell_type": "code",
   "execution_count": 2,
   "metadata": {},
   "outputs": [
    {
     "name": "stdout",
     "output_type": "stream",
     "text": [
      "Downloading http://yann.lecun.com/exdb/mnist/train-images-idx3-ubyte.gz\n",
      "Downloading http://yann.lecun.com/exdb/mnist/train-images-idx3-ubyte.gz to ./mnist-data/MNIST/raw/train-images-idx3-ubyte.gz\n"
     ]
    },
    {
     "data": {
      "application/vnd.jupyter.widget-view+json": {
       "model_id": "54c5eceffd4b4358968c6dbc9213adca",
       "version_major": 2,
       "version_minor": 0
      },
      "text/plain": [
       "  0%|          | 0/9912422 [00:00<?, ?it/s]"
      ]
     },
     "metadata": {},
     "output_type": "display_data"
    },
    {
     "name": "stdout",
     "output_type": "stream",
     "text": [
      "Extracting ./mnist-data/MNIST/raw/train-images-idx3-ubyte.gz to ./mnist-data/MNIST/raw\n",
      "\n",
      "Downloading http://yann.lecun.com/exdb/mnist/train-labels-idx1-ubyte.gz\n",
      "Downloading http://yann.lecun.com/exdb/mnist/train-labels-idx1-ubyte.gz to ./mnist-data/MNIST/raw/train-labels-idx1-ubyte.gz\n"
     ]
    },
    {
     "data": {
      "application/vnd.jupyter.widget-view+json": {
       "model_id": "9dcda7b71cfb45558cfe11a759a66f4b",
       "version_major": 2,
       "version_minor": 0
      },
      "text/plain": [
       "  0%|          | 0/28881 [00:00<?, ?it/s]"
      ]
     },
     "metadata": {},
     "output_type": "display_data"
    },
    {
     "name": "stdout",
     "output_type": "stream",
     "text": [
      "Extracting ./mnist-data/MNIST/raw/train-labels-idx1-ubyte.gz to ./mnist-data/MNIST/raw\n",
      "\n",
      "Downloading http://yann.lecun.com/exdb/mnist/t10k-images-idx3-ubyte.gz\n",
      "Downloading http://yann.lecun.com/exdb/mnist/t10k-images-idx3-ubyte.gz to ./mnist-data/MNIST/raw/t10k-images-idx3-ubyte.gz\n"
     ]
    },
    {
     "data": {
      "application/vnd.jupyter.widget-view+json": {
       "model_id": "e4ebf065066948d0a57280ef835a1b49",
       "version_major": 2,
       "version_minor": 0
      },
      "text/plain": [
       "  0%|          | 0/1648877 [00:00<?, ?it/s]"
      ]
     },
     "metadata": {},
     "output_type": "display_data"
    },
    {
     "name": "stdout",
     "output_type": "stream",
     "text": [
      "Extracting ./mnist-data/MNIST/raw/t10k-images-idx3-ubyte.gz to ./mnist-data/MNIST/raw\n",
      "\n",
      "Downloading http://yann.lecun.com/exdb/mnist/t10k-labels-idx1-ubyte.gz\n",
      "Downloading http://yann.lecun.com/exdb/mnist/t10k-labels-idx1-ubyte.gz to ./mnist-data/MNIST/raw/t10k-labels-idx1-ubyte.gz\n"
     ]
    },
    {
     "data": {
      "application/vnd.jupyter.widget-view+json": {
       "model_id": "f4a684efde9042cfa088c914edcd433f",
       "version_major": 2,
       "version_minor": 0
      },
      "text/plain": [
       "  0%|          | 0/4542 [00:00<?, ?it/s]"
      ]
     },
     "metadata": {},
     "output_type": "display_data"
    },
    {
     "name": "stdout",
     "output_type": "stream",
     "text": [
      "Extracting ./mnist-data/MNIST/raw/t10k-labels-idx1-ubyte.gz to ./mnist-data/MNIST/raw\n",
      "\n"
     ]
    }
   ],
   "source": [
    "from torchvision import datasets, transforms\n",
    "# Data file download directory\n",
    "LOCAL_DATA_DIR = './mnist-data'\n",
    "# Use prepared data handler from pytorch (torchvision)\n",
    "dataset = datasets.MNIST(LOCAL_DATA_DIR, train=True, download=True,\n",
    "                         transform=transforms.Compose([transforms.ToTensor()]))"
   ]
  },
  {
   "cell_type": "markdown",
   "metadata": {},
   "source": [
    "Here, MNIST is also a type `Dataset` (how? through class inheritance). All torch `Dataset` instance have tow useful and common functions: the length representations and data element access via index."
   ]
  },
  {
   "cell_type": "code",
   "execution_count": 3,
   "metadata": {},
   "outputs": [
    {
     "name": "stdout",
     "output_type": "stream",
     "text": [
      "60000\n",
      "<class 'tuple'>\n"
     ]
    }
   ],
   "source": [
    "print( len(dataset)  )\n",
    "print( type(dataset[0]) )"
   ]
  },
  {
   "cell_type": "markdown",
   "metadata": {},
   "source": [
    "That being said, how each data element is presented depends on a particular `Dataset` implementation. In case of MNIST, it is a tuple of length 2: **data** and **label**."
   ]
  },
  {
   "cell_type": "code",
   "execution_count": 4,
   "metadata": {},
   "outputs": [
    {
     "name": "stdout",
     "output_type": "stream",
     "text": [
      "Type of data  : <class 'torch.Tensor'> shape torch.Size([1, 28, 28])\n",
      "Type of label : <class 'int'> value 5\n"
     ]
    },
    {
     "data": {
      "image/png": "[encoded data removed]",
      "text/plain": [
       "<Figure size 432x288 with 1 Axes>"
      ]
     },
     "metadata": {
      "needs_background": "light"
     },
     "output_type": "display_data"
    }
   ],
   "source": [
    "ENTRY=0\n",
    "data, label = dataset[ENTRY]\n",
    "print('Type of data  :', type(data),  'shape', data.shape)\n",
    "print('Type of label :', type(label), 'value', label)\n",
    "\n",
    "import matplotlib.pyplot as plt\n",
    "%matplotlib inline\n",
    "\n",
    "# Draw data\n",
    "data = data.view(data.shape[1:])\n",
    "plt.imshow(data,cmap='gray')\n",
    "plt.show()"
   ]
  },
  {
   "cell_type": "markdown",
   "metadata": {},
   "source": [
    "<a href=\"dataloader\"></a>\n",
    "## 2. Streaming MNIST data using `DataLoader`\n",
    "\n",
    "Pytorch (and any other ML libraries out there) provides a generalized tool to interface an iteratable data instance called `DataLoader`. This is a useful tool for streaming data in a typical ML workflow. \n",
    "\n",
    "1. iteratable batching of data\n",
    "2. custom data sampling (random provided by default)\n",
    "3. custom data pre-processing\n",
    "4. prallel data reading\n",
    "\n",
    "Let's play a little bit."
   ]
  },
  {
   "cell_type": "code",
   "execution_count": 5,
   "metadata": {},
   "outputs": [
    {
     "name": "stdout",
     "output_type": "stream",
     "text": [
      "\n",
      "Vanilla data loader\n",
      "0 tensor([0])\n",
      "1 tensor([1])\n",
      "2 tensor([2])\n",
      "3 tensor([3])\n",
      "4 tensor([4])\n",
      "5 tensor([5])\n",
      "6 tensor([6])\n",
      "7 tensor([7])\n",
      "8 tensor([8])\n",
      "9 tensor([9])\n",
      "\n",
      "... batch_size set to 3\n",
      "0 tensor([0, 1, 2])\n",
      "1 tensor([3, 4, 5])\n",
      "2 tensor([6, 7, 8])\n",
      "3 tensor([9])\n",
      "\n",
      "... + drop_last set to True\n",
      "0 tensor([0, 1, 2])\n",
      "1 tensor([3, 4, 5])\n",
      "2 tensor([6, 7, 8])\n",
      "\n",
      "... + shuffle set to True\n",
      "0 tensor([7, 3, 2])\n",
      "1 tensor([6, 1, 0])\n",
      "2 tensor([5, 9, 4])\n"
     ]
    }
   ],
   "source": [
    "from torch.utils.data import DataLoader\n",
    "\n",
    "data = np.arange(10)\n",
    "\n",
    "print('\\nVanilla data loader')\n",
    "loader = DataLoader(data)\n",
    "for index, batch_data in enumerate(loader):\n",
    "    print(index,batch_data)\n",
    "\n",
    "print('\\n... batch_size set to 3')\n",
    "loader = DataLoader(data, batch_size=3)\n",
    "for index, batch_data in enumerate(loader):\n",
    "    print(index,batch_data)\n",
    "    \n",
    "print('\\n... + drop_last set to True')\n",
    "loader = DataLoader(data, batch_size=3, drop_last=True)\n",
    "for index, batch_data in enumerate(loader):\n",
    "    print(index,batch_data)\n",
    "\n",
    "print('\\n... + shuffle set to True')\n",
    "loader = DataLoader(data, batch_size=3, drop_last=True, shuffle=True)\n",
    "for index, batch_data in enumerate(loader):\n",
    "    print(index,batch_data)"
   ]
  },
  {
   "cell_type": "markdown",
   "metadata": {},
   "source": [
    "We can wrap the data loading loop by another loop so that we can continue iterating our dataset indefinitely for optimizing our model over 1 epoch. But if you want a reproducibility of the data subsets created by `DataLoader`, you can set the random seed explicitly as well."
   ]
  },
  {
   "cell_type": "code",
   "execution_count": 6,
   "metadata": {},
   "outputs": [
    {
     "name": "stdout",
     "output_type": "stream",
     "text": [
      "Loop 0\n",
      "0 tensor([9, 0, 5])\n",
      "1 tensor([1, 6, 7])\n",
      "2 tensor([2, 3, 4])\n",
      "Loop 1\n",
      "0 tensor([3, 5, 7])\n",
      "1 tensor([4, 1, 6])\n",
      "2 tensor([2, 9, 0])\n",
      "\n",
      "Repeating by setting the seed\n",
      "Loop 0\n",
      "0 tensor([4, 2, 0])\n",
      "1 tensor([6, 8, 7])\n",
      "2 tensor([9, 1, 5])\n",
      "Loop 1\n",
      "0 tensor([4, 2, 0])\n",
      "1 tensor([6, 8, 7])\n",
      "2 tensor([9, 1, 5])\n"
     ]
    }
   ],
   "source": [
    "loader = DataLoader(data, batch_size=3, drop_last=True, shuffle=True)\n",
    "\n",
    "for i in range(2):\n",
    "    print('Loop',i)\n",
    "    for index, batch_data in enumerate(loader):\n",
    "        print(index,batch_data)\n",
    "    \n",
    "print('\\nRepeating by setting the seed')\n",
    "for i in range(2):\n",
    "    print('Loop',i)\n",
    "    torch.manual_seed(1)\n",
    "    for index, batch_data in enumerate(loader):\n",
    "        print(index,batch_data)"
   ]
  },
  {
   "cell_type": "markdown",
   "metadata": {},
   "source": [
    "### 2.1 Creating your own dataset\n",
    "\n",
    "For your research, often we want to create our own dataset with handy utilities. You can define your own dataset and use with the `DataLoader` as long as it's either iterable (i.e. implements `__iter__` built-in method) or supports `len` function and a random index access (i.e. `__len__` and `__getitem__` support).\n",
    "\n",
    "Let's create a trivial example:"
   ]
  },
  {
   "cell_type": "code",
   "execution_count": 7,
   "metadata": {},
   "outputs": [
    {
     "name": "stdout",
     "output_type": "stream",
     "text": [
      "0 tensor([24, 89, 58, 31, 46, 33, 92,  6, 59, 86])\n",
      "1 tensor([73, 20, 55, 14, 23, 84, 29, 49, 77, 70])\n",
      "2 tensor([26, 54,  1, 56, 98, 90, 45, 93, 71, 13])\n",
      "3 tensor([ 8, 94, 34, 18, 63, 22, 64, 75, 44, 57])\n",
      "4 tensor([38, 96, 79, 60, 19, 80, 25, 37, 72, 41])\n",
      "5 tensor([ 9,  5, 27, 32, 95,  2, 81,  0, 51, 28])\n",
      "6 tensor([ 3, 35, 76, 36,  4, 48, 68, 11, 42, 99])\n",
      "7 tensor([67, 47, 10, 17, 16, 15, 52, 97, 88, 87])\n",
      "8 tensor([69, 21, 30, 74, 66, 83, 82, 62, 78, 39])\n",
      "9 tensor([65, 43, 91, 40, 50, 61,  7, 85, 12, 53])\n"
     ]
    }
   ],
   "source": [
    "import time\n",
    "\n",
    "class toy_dataset:\n",
    "    \n",
    "    def __init__(self):\n",
    "        self._data = tuple(range(100))\n",
    "        \n",
    "    def __len__(self):\n",
    "        return len(self._data)\n",
    "    \n",
    "    def __getitem__(self,index):\n",
    "        time.sleep(0.1)\n",
    "        return self._data[index]\n",
    "    \n",
    "data = toy_dataset()\n",
    "\n",
    "loader = DataLoader(data,batch_size=10,shuffle=True)\n",
    "\n",
    "for index, batch_data in enumerate(loader):\n",
    "    print(index,batch_data)"
   ]
  },
  {
   "cell_type": "markdown",
   "metadata": {},
   "source": [
    "... which is very slow because our dataset takes 0.1 second per data element access :( While we put `time.sleep(0.1)` intentionally, this (=slow-down for per-sample data yield) can happen in reality. Perhaps you are forced to read each data sample from a file-system (i.e. \"disk\") each time because your data is too big to be stored in memory, or maybe you have to pre-process your data with complicated procedures. \n",
    "\n",
    "There is a simple way to automatize this by setting another `DataLoader` constructor argument: `num_workers`."
   ]
  },
  {
   "cell_type": "code",
   "execution_count": 8,
   "metadata": {},
   "outputs": [
    {
     "name": "stdout",
     "output_type": "stream",
     "text": [
      "0 tensor([95, 71, 31, 39, 54, 24, 11, 14, 61, 21])\n",
      "1 tensor([73, 60, 32,  6, 47, 81, 15, 63, 17, 13])\n",
      "2 tensor([62, 99, 35, 70, 41, 53, 72, 57, 28, 65])\n",
      "3 tensor([91, 76, 51, 30, 49,  1, 23, 59, 42, 82])\n",
      "4 tensor([86, 50,  3, 94, 96, 40, 26, 36, 52, 69])\n",
      "5 tensor([66, 18, 33,  7, 27, 87, 88,  9, 25, 90])\n",
      "6 tensor([38, 67, 93, 45, 89, 92, 84, 44, 19, 79])\n",
      "7 tensor([ 2, 58, 56, 46, 97, 10,  0, 29, 78, 83])\n",
      "8 tensor([74, 37, 68, 55,  4, 20, 48, 80, 85, 98])\n",
      "9 tensor([ 8,  5, 34, 77, 64, 16, 12, 75, 43, 22])\n"
     ]
    }
   ],
   "source": [
    "loader = DataLoader(data,batch_size=10,shuffle=True,num_workers=5)\n",
    "\n",
    "for index, batch_data in enumerate(loader):\n",
    "    print(index,batch_data)"
   ]
  },
  {
   "cell_type": "markdown",
   "metadata": {},
   "source": [
    "By setting `num_workers=5`, we told `DataLoader` to use 5 separate _workers_ responsible for fetching data in parallel. This is one of the simplest forms to parallelize your data streaming.  In this tutorial, we don't cover a multi-GPU nor multi-node-multi-GPU data distribution. But tools are provided for those as well (e.g. Pytorch provides `DistributeDataParallel`, and there are also external wrapper tools like `Horovod`). "
   ]
  },
  {
   "cell_type": "markdown",
   "metadata": {},
   "source": [
    "### 2.2 Creating `DataLoader` with the MNIST dataset\n",
    "\n",
    "Now let's create MNIST dataset with `batch_size=32`, `shuffle=True`, `num_workers=4`:"
   ]
  },
  {
   "cell_type": "code",
   "execution_count": 9,
   "metadata": {},
   "outputs": [],
   "source": [
    "#from kmi.iotools.collates import MNISTCollate\n",
    "\n",
    "loader = torch.utils.data.DataLoader(dataset,\n",
    "                                     batch_size=32,\n",
    "                                     shuffle=True,\n",
    "                                     num_workers=4,\n",
    "                                     pin_memory=False)\n"
   ]
  },
  {
   "cell_type": "markdown",
   "metadata": {},
   "source": [
    "The above introduced only 1 additional argument: `pin_memory=True` can speed up data transfer to GPU by avoiding a necessiry to copy data from pageable memory to page-locked (pinned) memory. Read [here](https://devblogs.nvidia.com/how-optimize-data-transfers-cuda-cc/) for more details. If you are not sure about the details, set to `True` when using GPU. \n",
    "\n",
    "So let's play with it! First of all, it has the concept of \"length\"."
   ]
  },
  {
   "cell_type": "code",
   "execution_count": 10,
   "metadata": {},
   "outputs": [
    {
     "name": "stdout",
     "output_type": "stream",
     "text": [
      "length of DataLoader: 1875\n",
      "By the way, batch size * length = 37500\n"
     ]
    }
   ],
   "source": [
    "print('length of DataLoader:',len(loader))\n",
    "print('By the way, batch size * length =', 20 * len(loader))"
   ]
  },
  {
   "cell_type": "markdown",
   "metadata": {},
   "source": [
    "We know the data total statistics is 60,000 which coincides with the length of `DataLoader` instance and the batch size where the latter is the unit of batch data."
   ]
  },
  {
   "cell_type": "code",
   "execution_count": 11,
   "metadata": {},
   "outputs": [
    {
     "name": "stdout",
     "output_type": "stream",
     "text": [
      "Iteration 0\n",
      "tensor([9, 4, 5, 8, 2, 2, 1, 3, 4, 4, 4, 4, 6, 2, 1, 4, 1, 4, 9, 1, 6, 3, 6, 4,\n",
      "        6, 1, 4, 6, 2, 3, 1, 4])\n",
      "Iteration 1\n",
      "tensor([0, 2, 8, 4, 5, 7, 9, 6, 3, 6, 7, 6, 3, 8, 0, 4, 8, 0, 8, 6, 6, 1, 4, 7,\n",
      "        2, 2, 1, 5, 7, 4, 1, 3])\n",
      "Iteration 2\n",
      "tensor([7, 8, 4, 4, 8, 7, 4, 5, 3, 5, 6, 8, 4, 3, 9, 6, 8, 6, 4, 2, 9, 4, 3, 8,\n",
      "        1, 1, 3, 5, 4, 6, 5, 0])\n",
      "Iteration 3\n",
      "tensor([8, 3, 0, 4, 5, 4, 3, 3, 9, 6, 3, 8, 9, 1, 8, 4, 3, 5, 9, 0, 1, 4, 2, 0,\n",
      "        2, 0, 8, 0, 6, 2, 2, 2])\n",
      "Iteration 4\n",
      "tensor([9, 0, 7, 2, 4, 4, 2, 8, 6, 0, 1, 1, 0, 4, 6, 9, 8, 5, 3, 5, 3, 3, 1, 8,\n",
      "        2, 8, 2, 9, 9, 5, 8, 3])\n",
      "Iteration 5\n",
      "tensor([6, 3, 8, 9, 7, 1, 3, 9, 1, 1, 5, 2, 9, 3, 7, 8, 2, 3, 9, 1, 5, 4, 8, 2,\n",
      "        4, 0, 9, 5, 6, 6, 1, 8])\n",
      "Iteration 6\n",
      "tensor([6, 1, 5, 2, 5, 9, 4, 4, 2, 5, 0, 3, 1, 3, 8, 6, 3, 7, 8, 7, 1, 2, 6, 8,\n",
      "        2, 4, 7, 7, 9, 1, 1, 2])\n",
      "Iteration 7\n",
      "tensor([8, 1, 5, 7, 0, 9, 8, 5, 8, 1, 6, 0, 0, 6, 2, 9, 9, 5, 8, 7, 7, 1, 9, 1,\n",
      "        9, 2, 0, 2, 9, 9, 1, 0])\n",
      "Iteration 8\n",
      "tensor([4, 5, 1, 4, 3, 8, 3, 6, 2, 8, 0, 3, 1, 6, 7, 2, 3, 5, 0, 0, 7, 2, 2, 3,\n",
      "        6, 3, 0, 0, 0, 7, 1, 7])\n",
      "Iteration 9\n",
      "tensor([8, 9, 8, 8, 5, 0, 7, 4, 6, 7, 4, 0, 3, 1, 6, 5, 9, 1, 0, 2, 5, 4, 3, 8,\n",
      "        8, 5, 2, 6, 7, 9, 6, 5])\n"
     ]
    }
   ],
   "source": [
    "# Create an iterator for playin in this notebook\n",
    "from itertools import cycle\n",
    "iter = cycle(loader)\n",
    "\n",
    "for i in range(10):\n",
    "    batch = next(iter)    \n",
    "    print('Iteration',i)\n",
    "    print(batch[1])"
   ]
  },
  {
   "cell_type": "markdown",
   "metadata": {},
   "source": [
    "... and this is how `data` looks like:"
   ]
  },
  {
   "cell_type": "code",
   "execution_count": 12,
   "metadata": {},
   "outputs": [
    {
     "name": "stdout",
     "output_type": "stream",
     "text": [
      "Shape of an image batch data torch.Size([32, 1, 28, 28])\n"
     ]
    }
   ],
   "source": [
    "print('Shape of an image batch data',batch[0].shape)"
   ]
  },
  {
   "cell_type": "markdown",
   "metadata": {},
   "source": [
    "... which is quite naturally 20 of 28x28 image\n",
    "\n",
    "## 3. MNIST classification using MLP\n",
    "\n",
    "Let's try classifying 10 hand-written digits using MLP!\n",
    "\n",
    "### 3.1 Model definition\n",
    "We follow a similar approach we have taken in the previous notebook where we tried a logistic regression using 2-layers MLP with LeakyReLU activation function between two layers.  \n"
   ]
  },
  {
   "cell_type": "code",
   "execution_count": 13,
   "metadata": {},
   "outputs": [],
   "source": [
    "class MLP(torch.nn.Module):\n",
    "    def __init__(self, num_filters=16):\n",
    "        \n",
    "        super(MLP, self).__init__()\n",
    "        # MLP w/ 2 hidden layers, 128 neurons each\n",
    "        self._classifier = torch.nn.Sequential(\n",
    "            torch.nn.Linear(28*28, num_filters), \n",
    "            torch.nn.LeakyReLU(),\n",
    "            torch.nn.Linear(num_filters,10)\n",
    "        )\n",
    "\n",
    "    def forward(self, x):\n",
    "        # Make 2d image into 1D array\n",
    "        x_1d = x.view(-1, np.prod(x.size()[1:]))\n",
    "        return self._classifier(x_1d)"
   ]
  },
  {
   "cell_type": "markdown",
   "metadata": {},
   "source": [
    "\n",
    "### 3.2 Train loop function\n",
    "Next, let's define a train and test loop function. This is pretty much copied from the last notebook."
   ]
  },
  {
   "cell_type": "code",
   "execution_count": 14,
   "metadata": {},
   "outputs": [],
   "source": [
    "from ipywidgets import IntProgress\n",
    "from IPython.display import display\n",
    "from torch.utils.tensorboard import SummaryWriter\n",
    "import time\n",
    "\n",
    "def run_train(model, loader,  \n",
    "              num_iterations=100, log_dir='log',\n",
    "              lr=0.001, optimizer='SGD', device=None):\n",
    "    print(\"\\nTraining...\")\n",
    "    tstart = time.time()\n",
    "    if log_dir:\n",
    "        writer = SummaryWriter(log_dir=log_dir)\n",
    "    criterion = torch.nn.CrossEntropyLoss()\n",
    "    optimizer = getattr(torch.optim,optimizer)(model.parameters(),lr=lr)\n",
    "    f = IntProgress(min=0,max=int(num_iterations/100),bar_style='info')\n",
    "    display(f)\n",
    "    \n",
    "    iteration = 0\n",
    "    while iteration < num_iterations:\n",
    "        for data,label in loader:\n",
    "            \n",
    "            if device:\n",
    "                data,label = data.to(device),label.to(device)\n",
    "\n",
    "            loss = criterion(model(data), label)\n",
    "            optimizer.zero_grad()\n",
    "            loss.backward()\n",
    "            optimizer.step()\n",
    "            \n",
    "            if log_dir: \n",
    "                writer.add_scalar('loss/train', loss.item(), iteration)\n",
    "            if iteration%100 == 0:\n",
    "                f.value += 1\n",
    "            # Brake if we consumed all iteration counts\n",
    "            iteration += 1\n",
    "            if iteration >= num_iterations:\n",
    "                break\n",
    "    print('done',time.time()-tstart,'[s]')\n"
   ]
  },
  {
   "cell_type": "markdown",
   "metadata": {},
   "source": [
    "### Train!\n",
    "\n",
    "Let's train for 4000 steps using Adam optimizer. Also, the number of filters is default = 16."
   ]
  },
  {
   "cell_type": "code",
   "execution_count": 15,
   "metadata": {},
   "outputs": [
    {
     "name": "stdout",
     "output_type": "stream",
     "text": [
      "\n",
      "Training...\n"
     ]
    },
    {
     "data": {
      "application/vnd.jupyter.widget-view+json": {
       "model_id": "1a2c7b456a6e400cb6dd9114d94ad2ca",
       "version_major": 2,
       "version_minor": 0
      },
      "text/plain": [
       "IntProgress(value=0, bar_style='info', max=40)"
      ]
     },
     "metadata": {},
     "output_type": "display_data"
    },
    {
     "name": "stdout",
     "output_type": "stream",
     "text": [
      "done 10.887887001037598 [s]\n"
     ]
    }
   ],
   "source": [
    "model_a = MLP(16)\n",
    "\n",
    "run_train(model_a, loader, 4000, log_dir='mnist_mlp/filter16', optimizer='Adam')"
   ]
  },
  {
   "cell_type": "code",
   "execution_count": 16,
   "metadata": {},
   "outputs": [
    {
     "data": {
      "text/html": [
       "\n",
       "      <iframe id=\"tensorboard-frame-1dee74b289528867\" width=\"100%\" height=\"800\" frameborder=\"0\">\n",
       "      </iframe>\n",
       "      <script>\n",
       "        (function() {\n",
       "          const frame = document.getElementById(\"tensorboard-frame-1dee74b289528867\");\n",
       "          const url = new URL(\"/\", window.location);\n",
       "          const port = 6006;\n",
       "          if (port) {\n",
       "            url.port = port;\n",
       "          }\n",
       "          frame.src = url;\n",
       "        })();\n",
       "      </script>\n",
       "    "
      ],
      "text/plain": [
       "<IPython.core.display.HTML object>"
      ]
     },
     "metadata": {},
     "output_type": "display_data"
    }
   ],
   "source": [
    "%load_ext tensorboard\n",
    "\n",
    "%tensorboard --logdir mnist_mlp"
   ]
  },
  {
   "cell_type": "markdown",
   "metadata": {},
   "source": [
    "### 3.3 Exercise A\n",
    "\n",
    "Repeat the same training for `model_b` = `MLP` with 32 filters. "
   ]
  },
  {
   "cell_type": "code",
   "execution_count": 17,
   "metadata": {},
   "outputs": [
    {
     "name": "stdout",
     "output_type": "stream",
     "text": [
      "\n",
      "Training...\n"
     ]
    },
    {
     "data": {
      "application/vnd.jupyter.widget-view+json": {
       "model_id": "9f2f1b840e7342f1bd8eb0685271ee75",
       "version_major": 2,
       "version_minor": 0
      },
      "text/plain": [
       "IntProgress(value=0, bar_style='info', max=40)"
      ]
     },
     "metadata": {},
     "output_type": "display_data"
    },
    {
     "name": "stdout",
     "output_type": "stream",
     "text": [
      "done 8.286714553833008 [s]\n"
     ]
    }
   ],
   "source": [
    "model_b = MLP(32)\n",
    "\n",
    "run_train(model_a, loader, 4000, log_dir='mnist_mlp/filter32', optimizer='Adam')"
   ]
  },
  {
   "cell_type": "markdown",
   "metadata": {},
   "source": [
    "### 3.4 Exercise B\n",
    "\n",
    "1. Repeat the exercise A and measure how long it takes in wall-time.\n",
    "2. Repeat again, but this time with GPU enabled, and measure how long it takes.\n",
    "\n",
    "You probably see a very similar amount of time taken for both cases. This is because parallelizable fraction of computation is not dominating in the overall computing time (and especially when most time may be taken to copy data onto gpu)."
   ]
  },
  {
   "cell_type": "code",
   "execution_count": 18,
   "metadata": {},
   "outputs": [
    {
     "name": "stdout",
     "output_type": "stream",
     "text": [
      "\n",
      "Training...\n"
     ]
    },
    {
     "data": {
      "application/vnd.jupyter.widget-view+json": {
       "model_id": "5c5027d08b8c41c09c4ba527712a0cc9",
       "version_major": 2,
       "version_minor": 0
      },
      "text/plain": [
       "IntProgress(value=0, bar_style='info', max=40)"
      ]
     },
     "metadata": {},
     "output_type": "display_data"
    },
    {
     "name": "stdout",
     "output_type": "stream",
     "text": [
      "done 10.043056964874268 [s]\n",
      "With cuda 20.232669830322266\n",
      "\n",
      "Training...\n"
     ]
    },
    {
     "data": {
      "application/vnd.jupyter.widget-view+json": {
       "model_id": "7cbd0681eac54f45a3eb55df33dbc6e1",
       "version_major": 2,
       "version_minor": 0
      },
      "text/plain": [
       "IntProgress(value=0, bar_style='info', max=40)"
      ]
     },
     "metadata": {},
     "output_type": "display_data"
    },
    {
     "name": "stdout",
     "output_type": "stream",
     "text": [
      "done 8.295877933502197 [s]\n",
      "With cpu 8.298025369644165\n"
     ]
    }
   ],
   "source": [
    "import time\n",
    "\n",
    "tstart=time.time()\n",
    "model_b = MLP(32).to(device)\n",
    "run_train(model_b, loader, 4000, log_dir='mnist_mlp/%s' % device, optimizer='Adam', device=device)\n",
    "print('With',device,time.time()-tstart)\n",
    "\n",
    "tstart=time.time()\n",
    "model_b = MLP(32).to('cpu')\n",
    "run_train(model_b, loader, 4000, log_dir='mnist_mlp/cpu', optimizer='Adam')\n",
    "print('With cpu',time.time()-tstart)"
   ]
  },
  {
   "cell_type": "markdown",
   "metadata": {},
   "source": [
    "### Running on test dataset\n",
    "Both models seem to be trained OK. Let's benchmark their performance using the test dataset! Pytorch provides 10,000 MNIST dataset that is separate from the training set by simply setting the flag `train=False`."
   ]
  },
  {
   "cell_type": "code",
   "execution_count": 19,
   "metadata": {},
   "outputs": [],
   "source": [
    "# Use prepared data handler from pytorch (torchvision)\n",
    "test_dataset = datasets.MNIST(LOCAL_DATA_DIR, train=False, download=True,\n",
    "                              transform=transforms.Compose([transforms.ToTensor()]))\n",
    "\n",
    "test_loader = torch.utils.data.DataLoader(test_dataset,\n",
    "                                          batch_size=32,\n",
    "                                          shuffle=False,\n",
    "                                          num_workers=4,\n",
    "                                          pin_memory=False)"
   ]
  },
  {
   "cell_type": "markdown",
   "metadata": {},
   "source": [
    "### Inference loop function\n",
    "\n",
    "Let's now write a function to run the inference. This would be similar to the training loop. A key difference is to use a scope `with torch.set_grad_enabled(False)` which disables gradient calculation and caching of intermediate data for it. This results in less memory usage, so you should do this when you run your model for inference and not training."
   ]
  },
  {
   "cell_type": "code",
   "execution_count": 20,
   "metadata": {},
   "outputs": [],
   "source": [
    "def run_test(model,loader,device=None):\n",
    "\n",
    "    label_v, softmax_v = [],[]\n",
    "    softmax   = torch.nn.Softmax(dim=1)\n",
    "    f = IntProgress(min=0,max=int(len(loader)),bar_style='info')\n",
    "    display(f)\n",
    "    \n",
    "    with torch.set_grad_enabled(False):\n",
    "        for data,label in loader:\n",
    "            if device:\n",
    "                data,label = data.to(device), label.to(device)\n",
    "            label_v.append  ( label.detach().reshape(-1)   )\n",
    "            softmax_v.append( softmax(model(data)).detach())\n",
    "            f.value += 1\n",
    "    return torch.concat(label_v).cpu().numpy(), torch.concat(softmax_v).cpu().numpy()\n"
   ]
  },
  {
   "cell_type": "markdown",
   "metadata": {},
   "source": [
    "### 3.5 Exercise C\n",
    "1. Run the inference for `model_a` and `model_b`.\n",
    "2. Using the results, compute the accuracy over the whole test dataset for both models."
   ]
  },
  {
   "cell_type": "code",
   "execution_count": 21,
   "metadata": {},
   "outputs": [
    {
     "data": {
      "application/vnd.jupyter.widget-view+json": {
       "model_id": "7c024925f3954b4ba6f7d203f8398530",
       "version_major": 2,
       "version_minor": 0
      },
      "text/plain": [
       "IntProgress(value=0, bar_style='info', max=313)"
      ]
     },
     "metadata": {},
     "output_type": "display_data"
    },
    {
     "name": "stdout",
     "output_type": "stream",
     "text": [
      "model_a 0.9444\n"
     ]
    },
    {
     "data": {
      "application/vnd.jupyter.widget-view+json": {
       "model_id": "f6e4a633465e4f17baed91aa070755c2",
       "version_major": 2,
       "version_minor": 0
      },
      "text/plain": [
       "IntProgress(value=0, bar_style='info', max=313)"
      ]
     },
     "metadata": {},
     "output_type": "display_data"
    },
    {
     "name": "stdout",
     "output_type": "stream",
     "text": [
      "model_b 0.9487\n"
     ]
    }
   ],
   "source": [
    "\n",
    "label, softmax = run_test(model_a,test_loader)\n",
    "\n",
    "print('model_a',(np.argmax(softmax,axis=1) == label).sum() / len(label))\n",
    "\n",
    "label, softmax = run_test(model_b,test_loader)\n",
    "\n",
    "print('model_b',(np.argmax(softmax,axis=1) == label).sum() / len(label))"
   ]
  },
  {
   "cell_type": "markdown",
   "metadata": {},
   "source": [
    "### 3.6 Exercise D\n",
    "\n",
    "1. Count the number of parameters in our `model_a`\n",
    "2. How about `model_b`?\n"
   ]
  },
  {
   "cell_type": "code",
   "execution_count": 22,
   "metadata": {},
   "outputs": [
    {
     "name": "stdout",
     "output_type": "stream",
     "text": [
      "model_a 12730 parameters\n",
      "model_b 25450 parameters\n"
     ]
    }
   ],
   "source": [
    "print('model_a', 28*28*16 + 16 + 16*10 + 10, 'parameters')\n",
    "print('model_b', 28*28*32 + 32 + 32*10 + 10, 'parameters')"
   ]
  }
 ],
 "metadata": {
  "kernelspec": {
   "display_name": "Python 3 (ipykernel)",
   "language": "python",
   "name": "python3"
  },
  "language_info": {
   "codemirror_mode": {
    "name": "ipython",
    "version": 3
   },
   "file_extension": ".py",
   "mimetype": "text/x-python",
   "name": "python",
   "nbconvert_exporter": "python",
   "pygments_lexer": "ipython3",
   "version": "3.8.10"
  }
 },
 "nbformat": 4,
 "nbformat_minor": 4
}
